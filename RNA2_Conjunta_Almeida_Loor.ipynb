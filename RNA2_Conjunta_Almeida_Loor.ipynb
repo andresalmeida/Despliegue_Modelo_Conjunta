{
  "nbformat": 4,
  "nbformat_minor": 0,
  "metadata": {
    "colab": {
      "provenance": []
    },
    "kernelspec": {
      "name": "python3",
      "display_name": "Python 3"
    },
    "language_info": {
      "name": "python"
    }
  },
  "cells": [
    {
      "cell_type": "markdown",
      "source": [
        "# Despliegue de Modelo - Evaluación Conjunta"
      ],
      "metadata": {
        "id": "oeCrBKeIKYG2"
      }
    },
    {
      "cell_type": "markdown",
      "source": [
        "Lo primero que haremos, será el ver que es lo que contiene nuestro dataset"
      ],
      "metadata": {
        "id": "UwK25ubvKaZp"
      }
    },
    {
      "cell_type": "code",
      "execution_count": 1,
      "metadata": {
        "id": "W1zAcwBkKVZ0"
      },
      "outputs": [],
      "source": [
        "# Importamos nuestras librerías\n",
        "\n",
        "import pandas as pd\n",
        "import numpy as np\n",
        "from sklearn.model_selection import train_test_split\n",
        "from sklearn.preprocessing import StandardScaler, LabelEncoder\n",
        "from sklearn.linear_model import LogisticRegression\n",
        "from sklearn.svm import SVC\n",
        "from sklearn.neighbors import KNeighborsClassifier\n",
        "from sklearn.tree import DecisionTreeClassifier\n",
        "from sklearn.naive_bayes import GaussianNB\n",
        "from sklearn.neural_network import MLPClassifier\n",
        "from sklearn.metrics import accuracy_score, classification_report\n",
        "import matplotlib.pyplot as plt\n",
        "import seaborn as sns"
      ]
    },
    {
      "cell_type": "code",
      "source": [
        "def leer_datos(ruta):\n",
        "    df = pd.read_csv(ruta,sep=',')\n",
        "    return df"
      ],
      "metadata": {
        "id": "Vod8hwRmKddt"
      },
      "execution_count": 2,
      "outputs": []
    },
    {
      "cell_type": "code",
      "source": [
        "entrenamiento = leer_datos(\"data_evaluacion.csv\")\n",
        "entrenamiento.info()"
      ],
      "metadata": {
        "colab": {
          "base_uri": "https://localhost:8080/"
        },
        "id": "uEgiKyPqKe6u",
        "outputId": "915f7e87-adc3-467d-b151-7c7b0f66a634"
      },
      "execution_count": 3,
      "outputs": [
        {
          "output_type": "stream",
          "name": "stdout",
          "text": [
            "<class 'pandas.core.frame.DataFrame'>\n",
            "RangeIndex: 48841 entries, 0 to 48840\n",
            "Data columns (total 15 columns):\n",
            " #   Column         Non-Null Count  Dtype \n",
            "---  ------         --------------  ----- \n",
            " 0   39             48841 non-null  int64 \n",
            " 1   State-gov      48841 non-null  object\n",
            " 2   77516          48841 non-null  int64 \n",
            " 3   Bachelors      48841 non-null  object\n",
            " 4   13             48841 non-null  int64 \n",
            " 5   Never-married  48841 non-null  object\n",
            " 6   Adm-clerical   48841 non-null  object\n",
            " 7   Not-in-family  48841 non-null  object\n",
            " 8   White          48841 non-null  object\n",
            " 9   Male           48841 non-null  object\n",
            " 10  2174           48841 non-null  int64 \n",
            " 11  0              48841 non-null  int64 \n",
            " 12  40             48841 non-null  int64 \n",
            " 13  United-States  48841 non-null  object\n",
            " 14  <=50K          48841 non-null  object\n",
            "dtypes: int64(6), object(9)\n",
            "memory usage: 5.6+ MB\n"
          ]
        }
      ]
    },
    {
      "cell_type": "markdown",
      "source": [
        "Como vemos, nuestro dataset consta de 48841 datos, sin embargo, colocaremos encabezados basados en la información de nuestro dataset, para que nos sea más fácil entender las columnas que estamos manejando."
      ],
      "metadata": {
        "id": "w23fPbkKKgrK"
      }
    },
    {
      "cell_type": "code",
      "source": [
        "# Cargamos el archivo CSV de la evaluacion\n",
        "file_path = 'data_evaluacion.csv'\n",
        "df = pd.read_csv(file_path, header=None)  # header=None indica que el archivo CSV no tiene encabezado\n",
        "\n",
        "# Asignamos títulos a las columnas\n",
        "df.columns = ['Edad', 'ClaseObrera', 'PesoFinal', 'Educacion', 'EducacionNum', 'EstadoMarital', 'Ocupacion', 'EstadoCivil', 'Raza', 'Sexo', 'GananciaCapital'\n",
        ", 'PerdidaCapital', 'HorasPorSemana', 'Pais', 'Salario']\n",
        "\n",
        "# Guardamos el DataFrame con los nuevos títulos de columna\n",
        "df.to_csv('data_evaluacion_encabezados.csv', index=False)\n",
        "\n",
        "print(\"Archivo CSV con encabezados guardado con éxito.\")"
      ],
      "metadata": {
        "colab": {
          "base_uri": "https://localhost:8080/"
        },
        "id": "nsrRBll4KhPp",
        "outputId": "682ef8c9-2a78-4008-df7f-6b783c0c106b"
      },
      "execution_count": 4,
      "outputs": [
        {
          "output_type": "stream",
          "name": "stdout",
          "text": [
            "Archivo CSV con encabezados guardado con éxito.\n"
          ]
        }
      ]
    },
    {
      "cell_type": "code",
      "source": [
        "# Volvemos a ver si nuestro nuevo archivo tiene los mismos datos\n",
        "\n",
        "df = leer_datos(\"data_evaluacion_encabezados.csv\")\n",
        "df.head()\n",
        "df.info()"
      ],
      "metadata": {
        "colab": {
          "base_uri": "https://localhost:8080/"
        },
        "id": "bM5eegIQKism",
        "outputId": "41c515ce-8966-4355-f573-0ec31cacccfa"
      },
      "execution_count": 5,
      "outputs": [
        {
          "output_type": "stream",
          "name": "stdout",
          "text": [
            "<class 'pandas.core.frame.DataFrame'>\n",
            "RangeIndex: 48842 entries, 0 to 48841\n",
            "Data columns (total 15 columns):\n",
            " #   Column           Non-Null Count  Dtype \n",
            "---  ------           --------------  ----- \n",
            " 0   Edad             48842 non-null  int64 \n",
            " 1   ClaseObrera      48842 non-null  object\n",
            " 2   PesoFinal        48842 non-null  int64 \n",
            " 3   Educacion        48842 non-null  object\n",
            " 4   EducacionNum     48842 non-null  int64 \n",
            " 5   EstadoMarital    48842 non-null  object\n",
            " 6   Ocupacion        48842 non-null  object\n",
            " 7   EstadoCivil      48842 non-null  object\n",
            " 8   Raza             48842 non-null  object\n",
            " 9   Sexo             48842 non-null  object\n",
            " 10  GananciaCapital  48842 non-null  int64 \n",
            " 11  PerdidaCapital   48842 non-null  int64 \n",
            " 12  HorasPorSemana   48842 non-null  int64 \n",
            " 13  Pais             48842 non-null  object\n",
            " 14  Salario          48842 non-null  object\n",
            "dtypes: int64(6), object(9)\n",
            "memory usage: 5.6+ MB\n"
          ]
        }
      ]
    },
    {
      "cell_type": "code",
      "source": [
        "# Verificamos si hay valores nulos en las columnas\n",
        "\n",
        "print(df.isnull().sum())"
      ],
      "metadata": {
        "colab": {
          "base_uri": "https://localhost:8080/"
        },
        "id": "BKaeFG5lKlMf",
        "outputId": "d7166804-4dd2-4a63-f350-83394ac98460"
      },
      "execution_count": 6,
      "outputs": [
        {
          "output_type": "stream",
          "name": "stdout",
          "text": [
            "Edad               0\n",
            "ClaseObrera        0\n",
            "PesoFinal          0\n",
            "Educacion          0\n",
            "EducacionNum       0\n",
            "EstadoMarital      0\n",
            "Ocupacion          0\n",
            "EstadoCivil        0\n",
            "Raza               0\n",
            "Sexo               0\n",
            "GananciaCapital    0\n",
            "PerdidaCapital     0\n",
            "HorasPorSemana     0\n",
            "Pais               0\n",
            "Salario            0\n",
            "dtype: int64\n"
          ]
        }
      ]
    },
    {
      "cell_type": "markdown",
      "source": [
        "## Limpieza de Datos"
      ],
      "metadata": {
        "id": "vxVKAhntKnC-"
      }
    },
    {
      "cell_type": "code",
      "source": [
        "# Convertimos variables categóricas a numéricas\n",
        "le = LabelEncoder()\n",
        "categorical_columns = ['ClaseObrera', 'Educacion', 'EstadoMarital', 'Ocupacion', 'EstadoCivil', 'Raza', 'Sexo', 'Pais', 'Salario']\n",
        "for col in categorical_columns:\n",
        "    df[col] = le.fit_transform(df[col])\n",
        "\n",
        "# Separamos características y variable objetivo\n",
        "X = df.drop('Salario', axis=1)\n",
        "y = df['Salario']\n",
        "\n",
        "# Dividimos en conjunto de entrenamiento y prueba\n",
        "X_train, X_test, y_train, y_test = train_test_split(X, y, test_size=0.2, random_state=42)\n",
        "\n",
        "# Escalamos las características\n",
        "scaler = StandardScaler()\n",
        "X_train_scaled = scaler.fit_transform(X_train)\n",
        "X_test_scaled = scaler.transform(X_test)"
      ],
      "metadata": {
        "id": "31ffezYdKo4-"
      },
      "execution_count": 7,
      "outputs": []
    },
    {
      "cell_type": "code",
      "source": [
        "# NORMALIZACION DE CARACTERISTICAS NUMERICAS\n",
        "scaler = StandardScaler()\n",
        "numeric_columns = X.select_dtypes(include=[np.number]).columns\n",
        "X_train_scaled = X_train.copy()\n",
        "X_test_scaled = X_test.copy()\n",
        "X_train_scaled[numeric_columns] = scaler.fit_transform(X_train[numeric_columns])\n",
        "X_test_scaled[numeric_columns] = scaler.transform(X_test[numeric_columns])\n"
      ],
      "metadata": {
        "id": "aExMqnAtKsa-"
      },
      "execution_count": null,
      "outputs": []
    },
    {
      "cell_type": "markdown",
      "source": [
        "## Entrenamiento de RNA\n"
      ],
      "metadata": {
        "id": "xHpNDiDTKvM2"
      }
    },
    {
      "cell_type": "code",
      "source": [
        "from tensorflow.keras.models import Sequential\n",
        "from tensorflow.keras.layers import Dense\n",
        "from tensorflow.keras.optimizers import Adam\n",
        "\n",
        "# Definir el modelo\n",
        "model = Sequential()\n",
        "model.add(Dense(64, input_dim=X_train_scaled.shape[1], activation='relu'))\n",
        "model.add(Dense(32, activation='relu'))\n",
        "model.add(Dense(16, activation='relu'))\n",
        "model.add(Dense(1, activation='sigmoid'))  # Capa de salida para clasificación binaria\n",
        "\n",
        "# Compilar el modelo\n",
        "model.compile(optimizer=Adam(learning_rate=0.001), loss='binary_crossentropy', metrics=['accuracy'])\n",
        "\n",
        "# Entrenar el modelo\n",
        "history = model.fit(X_train_scaled, y_train, epochs=100, batch_size=32, validation_split=0.2, verbose=1)\n",
        "\n",
        "# Evaluar el modelo\n",
        "test_loss, test_accuracy = model.evaluate(X_test_scaled, y_test)\n",
        "print(f\"Test accuracy: {test_accuracy}\")\n",
        "\n",
        "# Hacer predicciones\n",
        "y_pred = (model.predict(X_test_scaled) > 0.5).astype(\"int32\")\n",
        "print(classification_report(y_test, y_pred))"
      ],
      "metadata": {
        "colab": {
          "base_uri": "https://localhost:8080/"
        },
        "id": "kxwLXEaIKw_-",
        "outputId": "b14706c1-4329-473b-eaeb-735a0d5c721f"
      },
      "execution_count": 18,
      "outputs": [
        {
          "output_type": "stream",
          "name": "stdout",
          "text": [
            "Epoch 1/100\n",
            "977/977 [==============================] - 6s 5ms/step - loss: 0.3539 - accuracy: 0.8362 - val_loss: 0.3257 - val_accuracy: 0.8481\n",
            "Epoch 2/100\n",
            "977/977 [==============================] - 7s 8ms/step - loss: 0.3238 - accuracy: 0.8465 - val_loss: 0.3249 - val_accuracy: 0.8453\n",
            "Epoch 3/100\n",
            "977/977 [==============================] - 2s 2ms/step - loss: 0.3195 - accuracy: 0.8483 - val_loss: 0.3204 - val_accuracy: 0.8498\n",
            "Epoch 4/100\n",
            "977/977 [==============================] - 2s 2ms/step - loss: 0.3169 - accuracy: 0.8502 - val_loss: 0.3209 - val_accuracy: 0.8518\n",
            "Epoch 5/100\n",
            "977/977 [==============================] - 2s 2ms/step - loss: 0.3149 - accuracy: 0.8516 - val_loss: 0.3209 - val_accuracy: 0.8491\n",
            "Epoch 6/100\n",
            "977/977 [==============================] - 3s 3ms/step - loss: 0.3130 - accuracy: 0.8523 - val_loss: 0.3198 - val_accuracy: 0.8507\n",
            "Epoch 7/100\n",
            "977/977 [==============================] - 3s 3ms/step - loss: 0.3115 - accuracy: 0.8532 - val_loss: 0.3173 - val_accuracy: 0.8530\n",
            "Epoch 8/100\n",
            "977/977 [==============================] - 2s 2ms/step - loss: 0.3100 - accuracy: 0.8533 - val_loss: 0.3184 - val_accuracy: 0.8500\n",
            "Epoch 9/100\n",
            "977/977 [==============================] - 2s 2ms/step - loss: 0.3083 - accuracy: 0.8546 - val_loss: 0.3149 - val_accuracy: 0.8540\n",
            "Epoch 10/100\n",
            "977/977 [==============================] - 2s 2ms/step - loss: 0.3067 - accuracy: 0.8556 - val_loss: 0.3159 - val_accuracy: 0.8530\n",
            "Epoch 11/100\n",
            "977/977 [==============================] - 2s 2ms/step - loss: 0.3051 - accuracy: 0.8556 - val_loss: 0.3172 - val_accuracy: 0.8546\n",
            "Epoch 12/100\n",
            "977/977 [==============================] - 2s 2ms/step - loss: 0.3038 - accuracy: 0.8559 - val_loss: 0.3165 - val_accuracy: 0.8526\n",
            "Epoch 13/100\n",
            "977/977 [==============================] - 3s 3ms/step - loss: 0.3019 - accuracy: 0.8569 - val_loss: 0.3169 - val_accuracy: 0.8511\n",
            "Epoch 14/100\n",
            "977/977 [==============================] - 2s 2ms/step - loss: 0.3013 - accuracy: 0.8586 - val_loss: 0.3163 - val_accuracy: 0.8525\n",
            "Epoch 15/100\n",
            "977/977 [==============================] - 2s 2ms/step - loss: 0.2993 - accuracy: 0.8599 - val_loss: 0.3146 - val_accuracy: 0.8509\n",
            "Epoch 16/100\n",
            "977/977 [==============================] - 2s 2ms/step - loss: 0.2977 - accuracy: 0.8593 - val_loss: 0.3164 - val_accuracy: 0.8514\n",
            "Epoch 17/100\n",
            "977/977 [==============================] - 2s 2ms/step - loss: 0.2972 - accuracy: 0.8607 - val_loss: 0.3159 - val_accuracy: 0.8500\n",
            "Epoch 18/100\n",
            "977/977 [==============================] - 2s 2ms/step - loss: 0.2959 - accuracy: 0.8618 - val_loss: 0.3164 - val_accuracy: 0.8521\n",
            "Epoch 19/100\n",
            "977/977 [==============================] - 3s 3ms/step - loss: 0.2944 - accuracy: 0.8613 - val_loss: 0.3159 - val_accuracy: 0.8504\n",
            "Epoch 20/100\n",
            "977/977 [==============================] - 2s 2ms/step - loss: 0.2940 - accuracy: 0.8620 - val_loss: 0.3185 - val_accuracy: 0.8481\n",
            "Epoch 21/100\n",
            "977/977 [==============================] - 2s 2ms/step - loss: 0.2931 - accuracy: 0.8626 - val_loss: 0.3167 - val_accuracy: 0.8499\n",
            "Epoch 22/100\n",
            "977/977 [==============================] - 2s 2ms/step - loss: 0.2912 - accuracy: 0.8631 - val_loss: 0.3178 - val_accuracy: 0.8490\n",
            "Epoch 23/100\n",
            "977/977 [==============================] - 2s 2ms/step - loss: 0.2905 - accuracy: 0.8630 - val_loss: 0.3173 - val_accuracy: 0.8502\n",
            "Epoch 24/100\n",
            "977/977 [==============================] - 2s 2ms/step - loss: 0.2896 - accuracy: 0.8627 - val_loss: 0.3191 - val_accuracy: 0.8496\n",
            "Epoch 25/100\n",
            "977/977 [==============================] - 3s 3ms/step - loss: 0.2892 - accuracy: 0.8639 - val_loss: 0.3201 - val_accuracy: 0.8504\n",
            "Epoch 26/100\n",
            "977/977 [==============================] - 2s 2ms/step - loss: 0.2876 - accuracy: 0.8640 - val_loss: 0.3208 - val_accuracy: 0.8466\n",
            "Epoch 27/100\n",
            "977/977 [==============================] - 2s 2ms/step - loss: 0.2871 - accuracy: 0.8644 - val_loss: 0.3215 - val_accuracy: 0.8482\n",
            "Epoch 28/100\n",
            "977/977 [==============================] - 2s 2ms/step - loss: 0.2860 - accuracy: 0.8653 - val_loss: 0.3178 - val_accuracy: 0.8480\n",
            "Epoch 29/100\n",
            "977/977 [==============================] - 2s 2ms/step - loss: 0.2844 - accuracy: 0.8662 - val_loss: 0.3212 - val_accuracy: 0.8495\n",
            "Epoch 30/100\n",
            "977/977 [==============================] - 2s 2ms/step - loss: 0.2840 - accuracy: 0.8667 - val_loss: 0.3245 - val_accuracy: 0.8456\n",
            "Epoch 31/100\n",
            "977/977 [==============================] - 3s 3ms/step - loss: 0.2832 - accuracy: 0.8659 - val_loss: 0.3239 - val_accuracy: 0.8463\n",
            "Epoch 32/100\n",
            "977/977 [==============================] - 2s 2ms/step - loss: 0.2824 - accuracy: 0.8666 - val_loss: 0.3260 - val_accuracy: 0.8456\n",
            "Epoch 33/100\n",
            "977/977 [==============================] - 2s 2ms/step - loss: 0.2821 - accuracy: 0.8663 - val_loss: 0.3245 - val_accuracy: 0.8459\n",
            "Epoch 34/100\n",
            "977/977 [==============================] - 2s 2ms/step - loss: 0.2810 - accuracy: 0.8683 - val_loss: 0.3304 - val_accuracy: 0.8448\n",
            "Epoch 35/100\n",
            "977/977 [==============================] - 2s 2ms/step - loss: 0.2803 - accuracy: 0.8671 - val_loss: 0.3246 - val_accuracy: 0.8461\n",
            "Epoch 36/100\n",
            "977/977 [==============================] - 2s 2ms/step - loss: 0.2794 - accuracy: 0.8666 - val_loss: 0.3299 - val_accuracy: 0.8466\n",
            "Epoch 37/100\n",
            "977/977 [==============================] - 4s 4ms/step - loss: 0.2783 - accuracy: 0.8674 - val_loss: 0.3300 - val_accuracy: 0.8450\n",
            "Epoch 38/100\n",
            "977/977 [==============================] - 2s 2ms/step - loss: 0.2777 - accuracy: 0.8664 - val_loss: 0.3264 - val_accuracy: 0.8459\n",
            "Epoch 39/100\n",
            "977/977 [==============================] - 2s 2ms/step - loss: 0.2776 - accuracy: 0.8672 - val_loss: 0.3306 - val_accuracy: 0.8508\n",
            "Epoch 40/100\n",
            "977/977 [==============================] - 2s 2ms/step - loss: 0.2767 - accuracy: 0.8673 - val_loss: 0.3297 - val_accuracy: 0.8448\n",
            "Epoch 41/100\n",
            "977/977 [==============================] - 2s 2ms/step - loss: 0.2749 - accuracy: 0.8689 - val_loss: 0.3321 - val_accuracy: 0.8471\n",
            "Epoch 42/100\n",
            "977/977 [==============================] - 2s 2ms/step - loss: 0.2751 - accuracy: 0.8693 - val_loss: 0.3327 - val_accuracy: 0.8477\n",
            "Epoch 43/100\n",
            "977/977 [==============================] - 3s 3ms/step - loss: 0.2741 - accuracy: 0.8689 - val_loss: 0.3303 - val_accuracy: 0.8456\n",
            "Epoch 44/100\n",
            "977/977 [==============================] - 2s 2ms/step - loss: 0.2735 - accuracy: 0.8696 - val_loss: 0.3315 - val_accuracy: 0.8480\n",
            "Epoch 45/100\n",
            "977/977 [==============================] - 2s 2ms/step - loss: 0.2723 - accuracy: 0.8705 - val_loss: 0.3365 - val_accuracy: 0.8392\n",
            "Epoch 46/100\n",
            "977/977 [==============================] - 2s 2ms/step - loss: 0.2719 - accuracy: 0.8710 - val_loss: 0.3328 - val_accuracy: 0.8435\n",
            "Epoch 47/100\n",
            "977/977 [==============================] - 2s 2ms/step - loss: 0.2712 - accuracy: 0.8708 - val_loss: 0.3373 - val_accuracy: 0.8463\n",
            "Epoch 48/100\n",
            "977/977 [==============================] - 2s 2ms/step - loss: 0.2701 - accuracy: 0.8715 - val_loss: 0.3385 - val_accuracy: 0.8445\n",
            "Epoch 49/100\n",
            "977/977 [==============================] - 3s 3ms/step - loss: 0.2697 - accuracy: 0.8717 - val_loss: 0.3411 - val_accuracy: 0.8427\n",
            "Epoch 50/100\n",
            "977/977 [==============================] - 2s 2ms/step - loss: 0.2693 - accuracy: 0.8740 - val_loss: 0.3377 - val_accuracy: 0.8440\n",
            "Epoch 51/100\n",
            "977/977 [==============================] - 2s 2ms/step - loss: 0.2684 - accuracy: 0.8725 - val_loss: 0.3434 - val_accuracy: 0.8449\n",
            "Epoch 52/100\n",
            "977/977 [==============================] - 2s 2ms/step - loss: 0.2681 - accuracy: 0.8728 - val_loss: 0.3394 - val_accuracy: 0.8448\n",
            "Epoch 53/100\n",
            "977/977 [==============================] - 2s 2ms/step - loss: 0.2669 - accuracy: 0.8722 - val_loss: 0.3513 - val_accuracy: 0.8390\n",
            "Epoch 54/100\n",
            "977/977 [==============================] - 2s 2ms/step - loss: 0.2658 - accuracy: 0.8733 - val_loss: 0.3396 - val_accuracy: 0.8449\n",
            "Epoch 55/100\n",
            "977/977 [==============================] - 3s 3ms/step - loss: 0.2651 - accuracy: 0.8732 - val_loss: 0.3501 - val_accuracy: 0.8456\n",
            "Epoch 56/100\n",
            "977/977 [==============================] - 2s 2ms/step - loss: 0.2646 - accuracy: 0.8741 - val_loss: 0.3441 - val_accuracy: 0.8411\n",
            "Epoch 57/100\n",
            "977/977 [==============================] - 2s 2ms/step - loss: 0.2644 - accuracy: 0.8737 - val_loss: 0.3469 - val_accuracy: 0.8427\n",
            "Epoch 58/100\n",
            "977/977 [==============================] - 2s 2ms/step - loss: 0.2638 - accuracy: 0.8745 - val_loss: 0.3458 - val_accuracy: 0.8418\n",
            "Epoch 59/100\n",
            "977/977 [==============================] - 2s 2ms/step - loss: 0.2631 - accuracy: 0.8737 - val_loss: 0.3536 - val_accuracy: 0.8358\n",
            "Epoch 60/100\n",
            "977/977 [==============================] - 2s 2ms/step - loss: 0.2620 - accuracy: 0.8753 - val_loss: 0.3498 - val_accuracy: 0.8399\n",
            "Epoch 61/100\n",
            "977/977 [==============================] - 3s 3ms/step - loss: 0.2618 - accuracy: 0.8754 - val_loss: 0.3447 - val_accuracy: 0.8395\n",
            "Epoch 62/100\n",
            "977/977 [==============================] - 2s 2ms/step - loss: 0.2604 - accuracy: 0.8751 - val_loss: 0.3506 - val_accuracy: 0.8439\n",
            "Epoch 63/100\n",
            "977/977 [==============================] - 2s 2ms/step - loss: 0.2595 - accuracy: 0.8776 - val_loss: 0.3509 - val_accuracy: 0.8420\n",
            "Epoch 64/100\n",
            "977/977 [==============================] - 2s 2ms/step - loss: 0.2595 - accuracy: 0.8761 - val_loss: 0.3545 - val_accuracy: 0.8431\n",
            "Epoch 65/100\n",
            "977/977 [==============================] - 2s 2ms/step - loss: 0.2585 - accuracy: 0.8769 - val_loss: 0.3528 - val_accuracy: 0.8362\n",
            "Epoch 66/100\n",
            "977/977 [==============================] - 2s 2ms/step - loss: 0.2587 - accuracy: 0.8769 - val_loss: 0.3581 - val_accuracy: 0.8448\n",
            "Epoch 67/100\n",
            "977/977 [==============================] - 3s 3ms/step - loss: 0.2579 - accuracy: 0.8775 - val_loss: 0.3578 - val_accuracy: 0.8395\n",
            "Epoch 68/100\n",
            "977/977 [==============================] - 3s 3ms/step - loss: 0.2567 - accuracy: 0.8775 - val_loss: 0.3589 - val_accuracy: 0.8389\n",
            "Epoch 69/100\n",
            "977/977 [==============================] - 2s 2ms/step - loss: 0.2570 - accuracy: 0.8782 - val_loss: 0.3617 - val_accuracy: 0.8408\n",
            "Epoch 70/100\n",
            "977/977 [==============================] - 2s 2ms/step - loss: 0.2563 - accuracy: 0.8779 - val_loss: 0.3611 - val_accuracy: 0.8401\n",
            "Epoch 71/100\n",
            "977/977 [==============================] - 2s 2ms/step - loss: 0.2561 - accuracy: 0.8801 - val_loss: 0.3620 - val_accuracy: 0.8379\n",
            "Epoch 72/100\n",
            "977/977 [==============================] - 2s 2ms/step - loss: 0.2544 - accuracy: 0.8791 - val_loss: 0.3600 - val_accuracy: 0.8408\n",
            "Epoch 73/100\n",
            "977/977 [==============================] - 3s 3ms/step - loss: 0.2540 - accuracy: 0.8785 - val_loss: 0.3646 - val_accuracy: 0.8406\n",
            "Epoch 74/100\n",
            "977/977 [==============================] - 3s 3ms/step - loss: 0.2537 - accuracy: 0.8793 - val_loss: 0.3585 - val_accuracy: 0.8426\n",
            "Epoch 75/100\n",
            "977/977 [==============================] - 2s 2ms/step - loss: 0.2536 - accuracy: 0.8790 - val_loss: 0.3680 - val_accuracy: 0.8418\n",
            "Epoch 76/100\n",
            "977/977 [==============================] - 2s 2ms/step - loss: 0.2529 - accuracy: 0.8791 - val_loss: 0.3714 - val_accuracy: 0.8379\n",
            "Epoch 77/100\n",
            "977/977 [==============================] - 2s 2ms/step - loss: 0.2517 - accuracy: 0.8803 - val_loss: 0.3664 - val_accuracy: 0.8347\n",
            "Epoch 78/100\n",
            "977/977 [==============================] - 2s 2ms/step - loss: 0.2513 - accuracy: 0.8794 - val_loss: 0.3658 - val_accuracy: 0.8375\n",
            "Epoch 79/100\n",
            "977/977 [==============================] - 2s 2ms/step - loss: 0.2515 - accuracy: 0.8821 - val_loss: 0.3713 - val_accuracy: 0.8348\n",
            "Epoch 80/100\n",
            "977/977 [==============================] - 3s 3ms/step - loss: 0.2507 - accuracy: 0.8793 - val_loss: 0.3683 - val_accuracy: 0.8370\n",
            "Epoch 81/100\n",
            "977/977 [==============================] - 2s 2ms/step - loss: 0.2501 - accuracy: 0.8803 - val_loss: 0.3715 - val_accuracy: 0.8361\n",
            "Epoch 82/100\n",
            "977/977 [==============================] - 2s 2ms/step - loss: 0.2502 - accuracy: 0.8800 - val_loss: 0.3730 - val_accuracy: 0.8358\n",
            "Epoch 83/100\n",
            "977/977 [==============================] - 2s 2ms/step - loss: 0.2493 - accuracy: 0.8815 - val_loss: 0.3689 - val_accuracy: 0.8395\n",
            "Epoch 84/100\n",
            "977/977 [==============================] - 2s 2ms/step - loss: 0.2483 - accuracy: 0.8825 - val_loss: 0.3788 - val_accuracy: 0.8344\n",
            "Epoch 85/100\n",
            "977/977 [==============================] - 2s 2ms/step - loss: 0.2490 - accuracy: 0.8829 - val_loss: 0.3745 - val_accuracy: 0.8371\n",
            "Epoch 86/100\n",
            "977/977 [==============================] - 3s 3ms/step - loss: 0.2469 - accuracy: 0.8826 - val_loss: 0.3813 - val_accuracy: 0.8329\n",
            "Epoch 87/100\n",
            "977/977 [==============================] - 2s 2ms/step - loss: 0.2475 - accuracy: 0.8827 - val_loss: 0.3764 - val_accuracy: 0.8342\n",
            "Epoch 88/100\n",
            "977/977 [==============================] - 2s 2ms/step - loss: 0.2470 - accuracy: 0.8807 - val_loss: 0.3770 - val_accuracy: 0.8372\n",
            "Epoch 89/100\n",
            "977/977 [==============================] - 2s 2ms/step - loss: 0.2468 - accuracy: 0.8824 - val_loss: 0.3734 - val_accuracy: 0.8344\n",
            "Epoch 90/100\n",
            "977/977 [==============================] - 2s 2ms/step - loss: 0.2461 - accuracy: 0.8829 - val_loss: 0.3794 - val_accuracy: 0.8344\n",
            "Epoch 91/100\n",
            "977/977 [==============================] - 2s 2ms/step - loss: 0.2454 - accuracy: 0.8830 - val_loss: 0.3767 - val_accuracy: 0.8353\n",
            "Epoch 92/100\n",
            "977/977 [==============================] - 3s 3ms/step - loss: 0.2455 - accuracy: 0.8843 - val_loss: 0.3807 - val_accuracy: 0.8340\n",
            "Epoch 93/100\n",
            "977/977 [==============================] - 2s 2ms/step - loss: 0.2447 - accuracy: 0.8834 - val_loss: 0.3915 - val_accuracy: 0.8320\n",
            "Epoch 94/100\n",
            "977/977 [==============================] - 2s 2ms/step - loss: 0.2449 - accuracy: 0.8822 - val_loss: 0.3829 - val_accuracy: 0.8409\n",
            "Epoch 95/100\n",
            "977/977 [==============================] - 2s 2ms/step - loss: 0.2438 - accuracy: 0.8839 - val_loss: 0.3836 - val_accuracy: 0.8394\n",
            "Epoch 96/100\n",
            "977/977 [==============================] - 2s 2ms/step - loss: 0.2440 - accuracy: 0.8835 - val_loss: 0.3771 - val_accuracy: 0.8390\n",
            "Epoch 97/100\n",
            "977/977 [==============================] - 2s 2ms/step - loss: 0.2436 - accuracy: 0.8842 - val_loss: 0.3899 - val_accuracy: 0.8331\n",
            "Epoch 98/100\n",
            "977/977 [==============================] - 3s 3ms/step - loss: 0.2442 - accuracy: 0.8837 - val_loss: 0.3916 - val_accuracy: 0.8371\n",
            "Epoch 99/100\n",
            "977/977 [==============================] - 2s 2ms/step - loss: 0.2413 - accuracy: 0.8862 - val_loss: 0.3874 - val_accuracy: 0.8354\n",
            "Epoch 100/100\n",
            "977/977 [==============================] - 2s 2ms/step - loss: 0.2419 - accuracy: 0.8860 - val_loss: 0.3858 - val_accuracy: 0.8288\n",
            "306/306 [==============================] - 1s 2ms/step - loss: 0.3978 - accuracy: 0.8318\n",
            "Test accuracy: 0.8318149447441101\n",
            "306/306 [==============================] - 1s 2ms/step\n",
            "              precision    recall  f1-score   support\n",
            "\n",
            "           0       0.88      0.90      0.89      7414\n",
            "           1       0.66      0.61      0.64      2355\n",
            "\n",
            "    accuracy                           0.83      9769\n",
            "   macro avg       0.77      0.76      0.76      9769\n",
            "weighted avg       0.83      0.83      0.83      9769\n",
            "\n"
          ]
        }
      ]
    }
  ]
}