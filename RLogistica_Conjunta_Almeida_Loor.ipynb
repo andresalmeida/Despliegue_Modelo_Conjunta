{
  "nbformat": 4,
  "nbformat_minor": 0,
  "metadata": {
    "colab": {
      "provenance": []
    },
    "kernelspec": {
      "name": "python3",
      "display_name": "Python 3"
    },
    "language_info": {
      "name": "python"
    }
  },
  "cells": [
    {
      "cell_type": "markdown",
      "source": [
        "# Despliegue de Modelo - Evaluación Conjunta"
      ],
      "metadata": {
        "id": "iJ2CfxcHJLLO"
      }
    },
    {
      "cell_type": "markdown",
      "source": [
        "Lo primero que haremos, será el ver que es lo que contiene nuestro dataset"
      ],
      "metadata": {
        "id": "QRX_Y3vMJLDL"
      }
    },
    {
      "cell_type": "code",
      "execution_count": 1,
      "metadata": {
        "id": "T_1PvLSqJAb8"
      },
      "outputs": [],
      "source": [
        "# Importamos nuestras librerías\n",
        "\n",
        "import pandas as pd\n",
        "import numpy as np\n",
        "from sklearn.model_selection import train_test_split\n",
        "from sklearn.preprocessing import StandardScaler, LabelEncoder\n",
        "from sklearn.linear_model import LogisticRegression\n",
        "from sklearn.svm import SVC\n",
        "from sklearn.neighbors import KNeighborsClassifier\n",
        "from sklearn.tree import DecisionTreeClassifier\n",
        "from sklearn.naive_bayes import GaussianNB\n",
        "from sklearn.neural_network import MLPClassifier\n",
        "from sklearn.metrics import accuracy_score, classification_report\n",
        "import matplotlib.pyplot as plt\n",
        "import seaborn as sns"
      ]
    },
    {
      "cell_type": "code",
      "source": [
        "def leer_datos(ruta):\n",
        "    df = pd.read_csv(ruta,sep=',')\n",
        "    return df"
      ],
      "metadata": {
        "id": "g3e4CUdUJRPP"
      },
      "execution_count": 2,
      "outputs": []
    },
    {
      "cell_type": "code",
      "source": [
        "entrenamiento = leer_datos(\"data_evaluacion.csv\")\n",
        "entrenamiento.info()"
      ],
      "metadata": {
        "colab": {
          "base_uri": "https://localhost:8080/"
        },
        "id": "FEIckrMEJSzA",
        "outputId": "8687e057-76be-4bb8-90bb-42738e1d4da7"
      },
      "execution_count": 3,
      "outputs": [
        {
          "output_type": "stream",
          "name": "stdout",
          "text": [
            "<class 'pandas.core.frame.DataFrame'>\n",
            "RangeIndex: 48841 entries, 0 to 48840\n",
            "Data columns (total 15 columns):\n",
            " #   Column         Non-Null Count  Dtype \n",
            "---  ------         --------------  ----- \n",
            " 0   39             48841 non-null  int64 \n",
            " 1   State-gov      48841 non-null  object\n",
            " 2   77516          48841 non-null  int64 \n",
            " 3   Bachelors      48841 non-null  object\n",
            " 4   13             48841 non-null  int64 \n",
            " 5   Never-married  48841 non-null  object\n",
            " 6   Adm-clerical   48841 non-null  object\n",
            " 7   Not-in-family  48841 non-null  object\n",
            " 8   White          48841 non-null  object\n",
            " 9   Male           48841 non-null  object\n",
            " 10  2174           48841 non-null  int64 \n",
            " 11  0              48841 non-null  int64 \n",
            " 12  40             48841 non-null  int64 \n",
            " 13  United-States  48841 non-null  object\n",
            " 14  <=50K          48841 non-null  object\n",
            "dtypes: int64(6), object(9)\n",
            "memory usage: 5.6+ MB\n"
          ]
        }
      ]
    },
    {
      "cell_type": "markdown",
      "source": [
        "Como vemos, nuestro dataset consta de 48841 datos, sin embargo, colocaremos encabezados basados en la información de nuestro dataset, para que nos sea más fácil entender las columnas que estamos manejando."
      ],
      "metadata": {
        "id": "RBZYyiF7JUVb"
      }
    },
    {
      "cell_type": "code",
      "source": [
        "# Cargamos el archivo CSV de la evaluacion\n",
        "file_path = 'data_evaluacion.csv'\n",
        "df = pd.read_csv(file_path, header=None)  # header=None indica que el archivo CSV no tiene encabezado\n",
        "\n",
        "# Asignamos títulos a las columnas\n",
        "df.columns = ['Edad', 'ClaseObrera', 'PesoFinal', 'Educacion', 'EducacionNum', 'EstadoMarital', 'Ocupacion', 'EstadoCivil', 'Raza', 'Sexo', 'GananciaCapital'\n",
        ", 'PerdidaCapital', 'HorasPorSemana', 'Pais', 'Salario']\n",
        "\n",
        "# Guardamos el DataFrame con los nuevos títulos de columna\n",
        "df.to_csv('data_evaluacion_encabezados.csv', index=False)\n",
        "\n",
        "print(\"Archivo CSV con encabezados guardado con éxito.\")"
      ],
      "metadata": {
        "colab": {
          "base_uri": "https://localhost:8080/"
        },
        "id": "tYVCo3BDJWvl",
        "outputId": "dc94c0a2-02d5-4942-b8a6-89b9097c9d13"
      },
      "execution_count": 4,
      "outputs": [
        {
          "output_type": "stream",
          "name": "stdout",
          "text": [
            "Archivo CSV con encabezados guardado con éxito.\n"
          ]
        }
      ]
    },
    {
      "cell_type": "code",
      "source": [
        "# Volvemos a ver si nuestro nuevo archivo tiene los mismos datos\n",
        "\n",
        "df = leer_datos(\"data_evaluacion_encabezados.csv\")\n",
        "df.head()\n",
        "df.info()"
      ],
      "metadata": {
        "colab": {
          "base_uri": "https://localhost:8080/"
        },
        "id": "dunoPKjeJaJC",
        "outputId": "0ee78f6a-20c7-423b-dbcb-89cb362e3a00"
      },
      "execution_count": 5,
      "outputs": [
        {
          "output_type": "stream",
          "name": "stdout",
          "text": [
            "<class 'pandas.core.frame.DataFrame'>\n",
            "RangeIndex: 48842 entries, 0 to 48841\n",
            "Data columns (total 15 columns):\n",
            " #   Column           Non-Null Count  Dtype \n",
            "---  ------           --------------  ----- \n",
            " 0   Edad             48842 non-null  int64 \n",
            " 1   ClaseObrera      48842 non-null  object\n",
            " 2   PesoFinal        48842 non-null  int64 \n",
            " 3   Educacion        48842 non-null  object\n",
            " 4   EducacionNum     48842 non-null  int64 \n",
            " 5   EstadoMarital    48842 non-null  object\n",
            " 6   Ocupacion        48842 non-null  object\n",
            " 7   EstadoCivil      48842 non-null  object\n",
            " 8   Raza             48842 non-null  object\n",
            " 9   Sexo             48842 non-null  object\n",
            " 10  GananciaCapital  48842 non-null  int64 \n",
            " 11  PerdidaCapital   48842 non-null  int64 \n",
            " 12  HorasPorSemana   48842 non-null  int64 \n",
            " 13  Pais             48842 non-null  object\n",
            " 14  Salario          48842 non-null  object\n",
            "dtypes: int64(6), object(9)\n",
            "memory usage: 5.6+ MB\n"
          ]
        }
      ]
    },
    {
      "cell_type": "code",
      "source": [
        "# Verificamos si hay valores nulos en las columnas\n",
        "\n",
        "print(df.isnull().sum())"
      ],
      "metadata": {
        "colab": {
          "base_uri": "https://localhost:8080/"
        },
        "id": "4LvjDkUNJb2r",
        "outputId": "9aebb37f-4f49-44ca-a113-ec5e63cc3a59"
      },
      "execution_count": 6,
      "outputs": [
        {
          "output_type": "stream",
          "name": "stdout",
          "text": [
            "Edad               0\n",
            "ClaseObrera        0\n",
            "PesoFinal          0\n",
            "Educacion          0\n",
            "EducacionNum       0\n",
            "EstadoMarital      0\n",
            "Ocupacion          0\n",
            "EstadoCivil        0\n",
            "Raza               0\n",
            "Sexo               0\n",
            "GananciaCapital    0\n",
            "PerdidaCapital     0\n",
            "HorasPorSemana     0\n",
            "Pais               0\n",
            "Salario            0\n",
            "dtype: int64\n"
          ]
        }
      ]
    },
    {
      "cell_type": "markdown",
      "source": [
        "## Limpieza de Datos"
      ],
      "metadata": {
        "id": "IMJSPyKiJd5p"
      }
    },
    {
      "cell_type": "code",
      "source": [
        "# Convertimos variables categóricas a numéricas\n",
        "le = LabelEncoder()\n",
        "categorical_columns = ['ClaseObrera', 'Educacion', 'EstadoMarital', 'Ocupacion', 'EstadoCivil', 'Raza', 'Sexo', 'Pais', 'Salario']\n",
        "for col in categorical_columns:\n",
        "    df[col] = le.fit_transform(df[col])\n",
        "\n",
        "# Separamos características y variable objetivo\n",
        "X = df.drop('Salario', axis=1)\n",
        "y = df['Salario']\n",
        "\n",
        "# Dividimos en conjunto de entrenamiento y prueba\n",
        "X_train, X_test, y_train, y_test = train_test_split(X, y, test_size=0.2, random_state=42)\n",
        "\n",
        "# Escalamos las características\n",
        "scaler = StandardScaler()\n",
        "X_train_scaled = scaler.fit_transform(X_train)\n",
        "X_test_scaled = scaler.transform(X_test)"
      ],
      "metadata": {
        "id": "6Ik2NfvNJcnX"
      },
      "execution_count": 7,
      "outputs": []
    },
    {
      "cell_type": "code",
      "source": [
        "# NORMALIZACION DE CARACTERISTICAS NUMERICAS\n",
        "scaler = StandardScaler()\n",
        "numeric_columns = X.select_dtypes(include=[np.number]).columns\n",
        "X_train_scaled = X_train.copy()\n",
        "X_test_scaled = X_test.copy()\n",
        "X_train_scaled[numeric_columns] = scaler.fit_transform(X_train[numeric_columns])\n",
        "X_test_scaled[numeric_columns] = scaler.transform(X_test[numeric_columns])\n"
      ],
      "metadata": {
        "id": "p7cACnKdJh3E"
      },
      "execution_count": null,
      "outputs": []
    },
    {
      "cell_type": "markdown",
      "source": [
        "## Entrenamiento del Modelo Regresión Logística"
      ],
      "metadata": {
        "id": "mtnwDcoDJkmE"
      }
    },
    {
      "cell_type": "code",
      "source": [
        "# Función para entrenar y evaluar modelos\n",
        "def train_evaluate_model(model, X_train, X_test, y_train, y_test, model_name):\n",
        "    model.fit(X_train, y_train)\n",
        "    y_pred = model.predict(X_test)\n",
        "    accuracy = accuracy_score(y_test, y_pred)\n",
        "    print(f\"{model_name} - Accuracy: {accuracy}\")\n",
        "    print(classification_report(y_test, y_pred))\n",
        "    return model, accuracy\n",
        "\n",
        "# Regresión Logística\n",
        "lr_model, lr_accuracy = train_evaluate_model(LogisticRegression(random_state=42), X_train_scaled, X_test_scaled, y_train, y_test, \"Logistic Regression\")\n"
      ],
      "metadata": {
        "colab": {
          "base_uri": "https://localhost:8080/"
        },
        "id": "VV3lkLZNJjgw",
        "outputId": "4ca8a446-ea81-422d-fa93-6ceab918791e"
      },
      "execution_count": 8,
      "outputs": [
        {
          "output_type": "stream",
          "name": "stdout",
          "text": [
            "Logistic Regression - Accuracy: 0.8237281195618794\n",
            "              precision    recall  f1-score   support\n",
            "\n",
            "           0       0.84      0.95      0.89      7414\n",
            "           1       0.72      0.44      0.55      2355\n",
            "\n",
            "    accuracy                           0.82      9769\n",
            "   macro avg       0.78      0.69      0.72      9769\n",
            "weighted avg       0.81      0.82      0.81      9769\n",
            "\n"
          ]
        }
      ]
    },
    {
      "cell_type": "markdown",
      "source": [
        "## Identificamos Overfiting o Underfiting"
      ],
      "metadata": {
        "id": "FnKNN3lWJ0xO"
      }
    },
    {
      "cell_type": "code",
      "source": [
        "def check_fit(model, X_train, X_test, y_train, y_test, model_name):\n",
        "    train_accuracy = accuracy_score(y_train, model.predict(X_train))\n",
        "    test_accuracy = accuracy_score(y_test, model.predict(X_test))\n",
        "    print(f\"{model_name}:\")\n",
        "    print(f\"  Train Accuracy: {train_accuracy}\")\n",
        "    print(f\"  Test Accuracy: {test_accuracy}\")\n",
        "    if train_accuracy > test_accuracy + 0.05:\n",
        "        print(\"  Posible overfitting\")\n",
        "    elif test_accuracy > train_accuracy + 0.05:\n",
        "        print(\"  Posible underfitting\")\n",
        "    else:\n",
        "        print(\"  Buen ajuste\")\n",
        "\n",
        "# Verificar ajuste para cada modelo\n",
        "check_fit(lr_model, X_train_scaled, X_test_scaled, y_train, y_test, \"Logistic Regression\")"
      ],
      "metadata": {
        "colab": {
          "base_uri": "https://localhost:8080/"
        },
        "id": "MpwzW52FJyll",
        "outputId": "5b54f57f-d2f6-4ab5-e1b7-ecbb314104b8"
      },
      "execution_count": 9,
      "outputs": [
        {
          "output_type": "stream",
          "name": "stdout",
          "text": [
            "Logistic Regression:\n",
            "  Train Accuracy: 0.8251989865124255\n",
            "  Test Accuracy: 0.8237281195618794\n",
            "  Buen ajuste\n"
          ]
        }
      ]
    }
  ]
}